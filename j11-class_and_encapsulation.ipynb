{
 "cells": [
  {
   "cell_type": "markdown",
   "metadata": {},
   "source": [
    "# 클래스(class)와 캡슐화(encapsulation)\n",
    "\n",
    "클래스(레코드)를 설계할 때 되도록이면\n",
    "Encapsulation 원리/원칙, 요 성질이 잘 지켜져야 된다\n",
    "\n",
    "객체의 상태는 그 객체의 메소드를 통해서만 변경 가능해야 한다는 이 원칙을 완전히 지키려면\n",
    "- 객체 상태 공유를 안하거나\n",
    "- 공유하면 변경을 하지 않거나\n",
    "- 직접 공유하지 않고 변경 불가능하게 포장해서 간접적으로 공유\n",
    "  - 간접적으로 공유해 주는 객체는 캡슐화 원리 지켜짐\n",
    "  - 공유를 받는 쪽에서 공유받은 참조를 객체의 상태 일부로 저장하면, 공유받은 쪽은 캡슐화 원리가 깨짐"
   ]
  },
  {
   "cell_type": "markdown",
   "metadata": {},
   "source": [
    "Let's say i want to create a library of books,\n",
    "so we need a record Book and a record Library that stores the books has a list\n"
   ]
  },
  {
   "cell_type": "code",
   "execution_count": 2,
   "metadata": {},
   "outputs": [],
   "source": [
    "record Book(String title, String author) { }\n",
    "record Library(List<Book> books) { }\n"
   ]
  },
  {
   "cell_type": "markdown",
   "metadata": {},
   "source": [
    "and use it that way\n"
   ]
  },
  {
   "cell_type": "code",
   "execution_count": 4,
   "metadata": {},
   "outputs": [
    {
     "name": "stdout",
     "output_type": "stream",
     "text": [
      "Library[books=[Book[title=DaVinci Code, author=Dan Brown]]]\n"
     ]
    }
   ],
   "source": [
    "var book = new Book(\"DaVinci Code\", \"Dan Brown\");\n",
    "var books = new ArrayList<Book>();\n",
    "books.add(book);\n",
    "var library = new Library(books);\n",
    "System.out.println(library);\n"
   ]
  },
  {
   "cell_type": "markdown",
   "metadata": {},
   "source": [
    "The problem with a Library declared like this in that the library is not really\n",
    "in control of the books inside itself, one can write\n"
   ]
  },
  {
   "cell_type": "code",
   "execution_count": 6,
   "metadata": {},
   "outputs": [
    {
     "name": "stdout",
     "output_type": "stream",
     "text": [
      "Library[books=[Book[title=DaVinci Code, author=Dan Brown], Book[title=Effective Java, author=Joshua Bloch], Book[title=Effective Java, author=Joshua Bloch]]]\n"
     ]
    }
   ],
   "source": [
    "books.add(new Book(\"Effective Java\", \"Joshua Bloch\"));\n",
    "System.out.println(library);\n"
   ]
  },
  {
   "cell_type": "markdown",
   "metadata": {},
   "source": [
    "The result is surprising, you can add books in the library without calling\n",
    "a method of the library which make the code hard to debug because changing\n",
    "an object has an effect to another object.\n"
   ]
  },
  {
   "cell_type": "code",
   "execution_count": 9,
   "metadata": {},
   "outputs": [
    {
     "data": {
      "text/plain": [
       "true"
      ]
     },
     "execution_count": 9,
     "metadata": {},
     "output_type": "execute_result"
    }
   ],
   "source": [
    "// 맨 처음 초기화를 위해 사용한 books 변수가 아니라도\n",
    "// 또 다른 참조로 레코드 내부 정보를 추가 공유도 가능\n",
    "var books2 = library.books();\n",
    "books2.add(new Book(\"홍길동전\",\"허균\"));"
   ]
  },
  {
   "cell_type": "code",
   "execution_count": 10,
   "metadata": {},
   "outputs": [
    {
     "data": {
      "text/plain": [
       "Library[books=[Book[title=DaVinci Code, author=Dan Brown], Book[title=Effective Java, author=Joshua Bloch], Book[title=Effective Java, author=Joshua Bloch], Book[title=흥부전, author=작자미상], Book[title=홍길동전, author=허균]]]"
      ]
     },
     "execution_count": 10,
     "metadata": {},
     "output_type": "execute_result"
    }
   ],
   "source": [
    "library"
   ]
  },
  {
   "cell_type": "markdown",
   "metadata": {},
   "source": [
    "## Encapsulation principle\n",
    "In a pure functional language, the language doesn't allow you to\n",
    "do side effect. In an OO language, if you want to survive, the idea is\n",
    "to limit the functions that can do side effects to the instance methods.\n"
   ]
  },
  {
   "cell_type": "markdown",
   "metadata": {},
   "source": [
    "This idea is named the encapsulation principle and is sum up by this sentence\n",
    "> The only way to change the value of an object is to use one of the methods of this object.\n"
   ]
  },
  {
   "cell_type": "markdown",
   "metadata": {},
   "source": [
    "In Java, the way to ensure the encapsulation principle is to do information hiding,\n",
    "i.e. to separate the __public__ API part (what the user code can use) from the __private__\n",
    "implementation part (how the class is implemented).\n"
   ]
  },
  {
   "cell_type": "markdown",
   "metadata": {},
   "source": [
    "This separation is done by using a special syntax named __class__ that allows\n",
    "to precisely control of the visibility of its members.\n"
   ]
  },
  {
   "cell_type": "markdown",
   "metadata": {},
   "source": [
    "## Class\n",
    "A class defines\n",
    "- private fields that is like a record component but not visible by the user code\n",
    "- a public constructor (Library), that guarantee that any objects will be correctly initialized\n",
    "- public and private instance and static methods\n"
   ]
  },
  {
   "cell_type": "markdown",
   "metadata": {},
   "source": [
    "### Unmodifiable class\n"
   ]
  },
  {
   "cell_type": "code",
   "execution_count": 11,
   "metadata": {},
   "outputs": [
    {
     "name": "stdout",
     "output_type": "stream",
     "text": [
      "Library [Book[title=DaVinci Code, author=Dan Brown], Book[title=Effective Java, author=Joshua Bloch], Book[title=Effective Java, author=Joshua Bloch], Book[title=흥부전, author=작자미상], Book[title=홍길동전, author=허균]]\n"
     ]
    }
   ],
   "source": [
    "class Library {\n",
    "  private final List<Book> books;\n",
    "  public Library(List<Book> books) {\n",
    "    this.books = List.copyOf(books);\n",
    "  }\n",
    "  public String toString() {\n",
    "    return \"Library \" + books.toString();\n",
    "  }\n",
    "}\n",
    "var library = new Library(books);\n",
    "System.out.println(library);\n"
   ]
  },
  {
   "cell_type": "markdown",
   "metadata": {},
   "source": [
    "Now changing the list of books has no effect on the library\n",
    "because the field `books` and the argument of the constructor `books` are different references\n"
   ]
  },
  {
   "cell_type": "code",
   "execution_count": 15,
   "metadata": {},
   "outputs": [
    {
     "name": "stdout",
     "output_type": "stream",
     "text": [
      "[Book[title=Effective Java, author=Joshua Bloch], Book[title=Effective Java, author=Joshua Bloch], Book[title=흥부전, author=작자미상]]\n",
      "Library [Book[title=DaVinci Code, author=Dan Brown], Book[title=Effective Java, author=Joshua Bloch], Book[title=Effective Java, author=Joshua Bloch], Book[title=흥부전, author=작자미상], Book[title=홍길동전, author=허균]]\n"
     ]
    }
   ],
   "source": [
    "books.remove(new Book(\"DaVinci Code\", \"Dan Brown\"));\n",
    "books.remove(new Book(\"홍길동전\", \"허균\"));\n",
    "System.out.println(books);\n",
    "System.out.println(library);\n"
   ]
  },
  {
   "cell_type": "markdown",
   "metadata": {},
   "source": [
    "You can notice that the constructor has no return type, it's because it's always void.\n"
   ]
  },
  {
   "cell_type": "markdown",
   "metadata": {},
   "source": [
    "The field 'books' is declared final which means must be initialized\n",
    "in the constructor (and not changed afterward) so we are sure that in toString(),\n",
    "the field 'books' has been initialized.\n"
   ]
  },
  {
   "cell_type": "markdown",
   "metadata": {},
   "source": [
    "Unlike a record, the method equals()/hashCode() and toString() are not provided and has\n",
    "to be hand written. We will see how to implement them later.\n"
   ]
  },
  {
   "cell_type": "markdown",
   "metadata": {},
   "source": [
    "### Modifiable class\n",
    "The code above is an unmodifiable implementation of Library.\n",
    "We can also write a mutable version with the caveat that using it\n",
    "as element of a list or a map is not recommended.\n"
   ]
  },
  {
   "cell_type": "code",
   "execution_count": 20,
   "metadata": {},
   "outputs": [
    {
     "name": "stdout",
     "output_type": "stream",
     "text": [
      "ModifiableLibrary [Book[title=DaVinci Code, author=Dan Brown]]\n",
      "ModifiableLibrary [Book[title=DaVinci Code, author=Dan Brown], Book[title=Effective Java, author=Joshua Bloch]]\n"
     ]
    }
   ],
   "source": [
    "class ModifiableLibrary {\n",
    "  private final ArrayList<Book> books;\n",
    "  public ModifiableLibrary() {\n",
    "    books = new ArrayList<>();\n",
    "  }\n",
    "  public void add(Book book) {\n",
    "    Objects.requireNonNull(book);\n",
    "    books.add(book);\n",
    "  }\n",
    "  public String toString() {\n",
    "    return \"ModifiableLibrary \" + books.toString();\n",
    "  }\n",
    "}\n",
    "var library = new ModifiableLibrary();\n",
    "library.add(new Book(\"DaVinci Code\", \"Dan Brown\"));\n",
    "System.out.println(library);\n",
    "library.add(new Book(\"Effective Java\", \"Joshua Bloch\"));\n",
    "System.out.println(library);\n"
   ]
  },
  {
   "cell_type": "markdown",
   "metadata": {},
   "source": [
    "### Modifiable class and accessors\n",
    "An error sometime seen is to add a method to get the content of the library\n",
    "and forget that it may expose the private list of books\n"
   ]
  },
  {
   "cell_type": "code",
   "execution_count": 21,
   "metadata": {},
   "outputs": [],
   "source": [
    "class ModifiableLibrary {\n",
    "  private final ArrayList<Book> books;\n",
    "  public ModifiableLibrary() {\n",
    "    books = new ArrayList<>();\n",
    "  }\n",
    "  public void add(Book book) {\n",
    "    Objects.requireNonNull(book);\n",
    "    books.add(book);\n",
    "  }\n",
    "  public List<Book> getBooks() {\n",
    "    return books;\n",
    "  }\n",
    "  public String toString() {\n",
    "    return \"ModifiableLibrary \" + books.toString();\n",
    "  }\n",
    "}\n"
   ]
  },
  {
   "cell_type": "markdown",
   "metadata": {},
   "source": [
    "The following code breaks the encapsulation because you can \n",
    "modify the library without calling a method of the Library\n",
    "(`add()` is called on the List<Book> not on the Library)\n"
   ]
  },
  {
   "cell_type": "code",
   "execution_count": null,
   "metadata": {},
   "outputs": [],
   "source": [
    "var library = new ModifiableLibrary();\n",
    "var books = library.getBooks();\n",
    "books.add(new Book(\"DaVinci Code\", \"Dan Brown\"));\n"
   ]
  },
  {
   "cell_type": "markdown",
   "metadata": {},
   "source": [
    "One solution is to return a copy, or better a non modifiable view\n",
    "of the internal list of books\n"
   ]
  },
  {
   "cell_type": "code",
   "execution_count": null,
   "metadata": {},
   "outputs": [],
   "source": [
    "class ModifiableLibrary {\n",
    "  private final ArrayList<Book> books;\n",
    "  public ModifiableLibrary() {\n",
    "    books = new ArrayList<>();\n",
    "  }\n",
    "  public void add(Book book) {\n",
    "    books.add(book);\n",
    "  }\n",
    "  public List<Book> getBooks() {\n",
    "    return Collections.unmodifiableList(books);\n",
    "  }\n",
    "  public String toString() {\n",
    "    return \"ModifiableLibrary \" + books.toString();\n",
    "  }\n",
    "}\n",
    "var library = new ModifiableLibrary();\n",
    "var books = library.getBooks();\n",
    "books.add(new Book(\"DaVinci Code\", \"Dan Brown\"));\n"
   ]
  },
  {
   "cell_type": "markdown",
   "metadata": {},
   "source": [
    "The best solution being to not have a method `getBook()` at all,\n",
    "the less code you write the less bug you have.\n",
    "So please don't write getters and setters unless you really need them.\n"
   ]
  },
  {
   "cell_type": "markdown",
   "metadata": {},
   "source": [
    "## Record constructor\n",
    "Records also provides ways to customize the code to respect the\n",
    "encapsulation principle\n",
    "Here, we only need to change the canonical constructor \n"
   ]
  },
  {
   "cell_type": "code",
   "execution_count": null,
   "metadata": {},
   "outputs": [],
   "source": [
    "record Library(List<Book> books) {\n",
    "  public Library(List<Book> books) {\n",
    "    this.books = List.copyOf(books);\n",
    "  }\n",
    "}\n"
   ]
  },
  {
   "cell_type": "markdown",
   "metadata": {},
   "source": [
    "To summarize, a class is a general mechanism to describe how things\n",
    "are implemented and make a separation between what is publicly visible\n",
    "and what is privately implemented to make the code working.\n",
    "A record is a special case when there is no separation, everything is public.\n"
   ]
  }
 ],
 "metadata": {
  "kernelspec": {
   "display_name": "Java (rjk 2.1.0)",
   "language": "java",
   "name": "rapaio-jupyter-kernel"
  },
  "language_info": {
   "codemirror_mode": "java",
   "file_extension": ".jshell",
   "mimetype": "text/x-java-source",
   "name": "java",
   "nbconvert_exporter": "script",
   "pygments_lexer": "java",
   "version": "22.0.2+9"
  }
 },
 "nbformat": 4,
 "nbformat_minor": 4
}
