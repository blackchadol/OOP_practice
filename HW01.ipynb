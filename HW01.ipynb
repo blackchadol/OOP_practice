{
 "cells": [
  {
   "cell_type": "markdown",
   "id": "49b2bb3f-8a94-4aba-bf67-6b97d86c0047",
   "metadata": {},
   "source": [
    "# OOP (2024 Fall) HW1: 불변 순서쌍을 활용해 가변 순서쌍 만들기 \n",
    "- 이름: 오준수\n",
    "- 학번: 20211153\n",
    "\n"
   ]
  },
  {
   "cell_type": "markdown",
   "id": "9c3c24aa-19ac-4c88-a228-0d1686034a24",
   "metadata": {},
   "source": [
    "-----\n",
    "## Part A: 불변 순서쌍 Pair\n",
    "1. 클래스(또는 정적) 팩토리 메소드 `of`를 를 수정하여 완성하라.\n",
    "    - https://velog.io/@cjh8746/%EC%A0%95%EC%A0%81-%ED%8C%A9%ED%86%A0%EB%A6%AC-%EB%A9%94%EC%84%9C%EB%93%9CStatic-Factory-Method\n",
    "1. 주석 부분을 풀어 제너릭 클래스인 `Pair`가 제너릭 인터페이스 `Comparable`를 구현하도록 완성하라.\n",
    "    - https://docs.oracle.com/en/java/javase/22/docs/api/java.base/java/lang/Comparable.html"
   ]
  },
  {
   "cell_type": "code",
   "execution_count": 10,
   "id": "f2b4bcb7-9d9c-494a-9762-ca0700c6f762",
   "metadata": {},
   "outputs": [],
   "source": [
    "record Pair<F extends Comparable<F>, S extends Comparable<S>>(F first, S second) implements Comparable<Pair<F, S>> {\n",
    "    \n",
    "    // 아래 팩토리 메소드 of가 컴파일되지 않고 있으니 컴파일되도록 수정하라 (힌트: 제너릭 메소드)\n",
    "     static <F extends Comparable<F>, S extends Comparable<S>> Pair<F, S> of(F first, S second){\n",
    "        return new Pair<>(first, second);\n",
    "    }\n",
    "    \n",
    "    \n",
    "    // 사전순이 되도록 정의하기. 즉 first가 더 큰 쪽이 더 크고, first가 같으면 second를 비교\n",
    "    @Override\n",
    "    public int compareTo(Pair<F, S> other) {\n",
    "        int cmp = this.first.compareTo(other.first);\n",
    "        if (cmp == 0) {\n",
    "            return this.second.compareTo(other.second);\n",
    "        }\n",
    "        return cmp;\n",
    "    }\n",
    "    \n",
    "}"
   ]
  },
  {
   "cell_type": "code",
   "execution_count": 11,
   "id": "5fb5b2ac-4ac0-40cc-9f87-1675177e4baa",
   "metadata": {},
   "outputs": [
    {
     "name": "stdout",
     "output_type": "stream",
     "text": [
      "-1\n",
      "2\n",
      "0\n"
     ]
    }
   ],
   "source": [
    "/* compareTo 가 잘 동작하는지\n",
    "   - 왼쪽이 더 큰 경우\n",
    "   - 왼쪽이 더 작은 경우\n",
    "   - 같은 경우\n",
    "   이런 경우를 각각 포함하도록 이렇게 최소 3개 이상의 테스트를 실행해 보라\n",
    "*/\n",
    "\n",
    "System.out.println(\"apple\".compareTo(\"banana\")); // 왼쪽이 더 큼\n",
    "System.out.println(\"cherry\".compareTo(\"apple\")); // 오른쪽이 더 큼\n",
    "System.out.println(\"orange\".compareTo(\"orange\")); // 같음 \n",
    "\n",
    "// 대략 이런 식으로 테스트 실행\n",
    "// System.out.println( ??.compareTo(??) );\n",
    "// System.out.println( ??.compareTo(??) );\n",
    "// System.out.println( ??.compareTo(??) );"
   ]
  },
  {
   "cell_type": "markdown",
   "id": "e2774a64-250e-4e89-a536-5a8ed42bb4ce",
   "metadata": {},
   "source": [
    "------\n",
    "## Part B: 가변 순서쌍 ModifiablePair\n",
    "\n",
    "불변 순서쌍만을 priviate 필드로 갖고 있는 가변 순서쌍 제너릭 클래스를 작성하라\n",
    "\n",
    "가변 순서쌍은 불변 순서쌍과 마찬가지 이름의 getter 메소드가 있고 추가로 setter 메소드도 있다.\n",
    "\n",
    "또, 가변 순서쌍도 불변 순서쌍과 마찬가지로 Comparable 제너릭 인터페이스를 구현하라.\n"
   ]
  },
  {
   "cell_type": "code",
   "execution_count": 12,
   "id": "38eb649f-d95e-40d8-a33b-658df4ee4a7f",
   "metadata": {},
   "outputs": [],
   "source": [
    "class ModifiablePair<F extends Comparable<F>, S extends Comparable<S>> implements Comparable<ModifiablePair<F, S>> {\n",
    "    private Pair<F,S> pair; // 이 field 말고 다른 field는 추가로 정의하지 말 것!\n",
    "\n",
    "    ModifiablePair(F first, S second) {\n",
    "         this.pair = Pair.of(first, second);\n",
    "    }\n",
    "    \n",
    "    // getter들은 pair에게 위임(delegate)하는 방식으로 작성하라\n",
    "    public F first() {\n",
    "       return pair.first();\n",
    "    }\n",
    "    public S second() {\n",
    "        return pair.second();\n",
    "    }\n",
    "    \n",
    "    // setter들은 적절히 정의하라\n",
    "    public void setFirst(F first) {\n",
    "        pair = Pair.of(first, second());\n",
    "    }\n",
    "    public void setSecond(S second) {\n",
    "         pair = Pair.of(first(), second); \n",
    "    }\n",
    "\n",
    "    \n",
    "    // compareTo는 pair에게 위임(delegate)하는 방식으로 작성하라\n",
    "    @Override\n",
    "    public int compareTo(ModifiablePair<F, S> other) {\n",
    "        return this.pair.compareTo(other.pair);\n",
    "    }\n",
    "    \n",
    "\n",
    "    @Override\n",
    "    public String toString() { \n",
    "        return pair.toString(); // toString은 그냥 pair에게 위임\n",
    "    }\n",
    "}"
   ]
  },
  {
   "cell_type": "code",
   "execution_count": 16,
   "id": "57af3b33-b9db-43bd-a8e7-5b35d97aaf5e",
   "metadata": {},
   "outputs": [
    {
     "name": "stdout",
     "output_type": "stream",
     "text": [
      "처음 값:\n",
      "첫 번째: 1\n",
      "두 번째: apple\n",
      "setFirst(2) 후:\n",
      "첫 번째: 2\n",
      "두 번째: apple\n",
      "setSecond(\"banana\") 후:\n",
      "첫 번째: 2\n",
      "두 번째: banana\n",
      "최종 쌍: Pair[first=2, second=banana]\n"
     ]
    }
   ],
   "source": [
    "// ModifiablePair<F,S>의 getter와 setter들이 잘 동작하는지 확인할 수 있는 적절한 테스트 코드 작성하여 실행하라.\n",
    "// 그러니까 `first()`, `second()`, `setFrist(F)`, `setSecond(S)` 메소드를 모두 활용하는 예시 코드를 작성해 실행하라는 말이다.\n",
    "\n",
    " ModifiablePair<Integer, String> modPair = new ModifiablePair<>(1, \"apple\");\n",
    "\n",
    "   \n",
    "        System.out.println(\"처음 값:\");\n",
    "        System.out.println(\"첫 번째: \" + modPair.first());   // Expected: 1\n",
    "        System.out.println(\"두 번째: \" + modPair.second()); // Expected: \"apple\"\n",
    "\n",
    " \n",
    "        modPair.setFirst(2);\n",
    "        System.out.println(\"setFirst(2) 후:\");\n",
    "        System.out.println(\"첫 번째: \" + modPair.first());   // Expected: 2\n",
    "        System.out.println(\"두 번째: \" + modPair.second()); // Expected: \"apple\"\n",
    "\n",
    "        modPair.setSecond(\"banana\");\n",
    "        System.out.println(\"setSecond(\\\"banana\\\") 후:\");\n",
    "        System.out.println(\"첫 번째: \" + modPair.first());   // Expected: 2\n",
    "        System.out.println(\"두 번째: \" + modPair.second()); // Expected: \"banana\"\n",
    "\n",
    "\n",
    "        System.out.println(\"최종 쌍: \" + modPair); // Expected: (2, banana)\n",
    "\n",
    "\n"
   ]
  },
  {
   "cell_type": "code",
   "execution_count": 17,
   "id": "e0b9e66e-d3fa-4485-b6f6-4075eca8fcf3",
   "metadata": {},
   "outputs": [
    {
     "name": "stdout",
     "output_type": "stream",
     "text": [
      "테스트 케이스 1:\n",
      "pair1.compareTo(pair2): 1\n",
      "테스트 케이스 2:\n",
      "pair3.compareTo(pair4): -1\n",
      "테스트 케이스 3:\n",
      "pair5.compareTo(pair6): -2\n"
     ]
    }
   ],
   "source": [
    "/* 가변 순써상에 대해서도\n",
    "  compareTo 가 잘 동작하는지\n",
    "   - 왼쪽이 더 큰 경우\n",
    "   - 왼쪽이 더 작은 경우\n",
    "   - 같은 경우\n",
    "   이런 경우를 각각 포함하도록 이렇게 최소 3개 이상의 테스트를 실행해 보라\n",
    "*/\n",
    "\n",
    "// 테스트 케이스 1: 왼쪽이 더 큰 경우\n",
    "        ModifiablePair<Integer, String> pair1 = new ModifiablePair<>(3, \"apple\");\n",
    "        ModifiablePair<Integer, String> pair2 = new ModifiablePair<>(2, \"banana\");\n",
    "        System.out.println(\"테스트 케이스 1:\");\n",
    "        System.out.println(\"pair1.compareTo(pair2): \" + pair1.compareTo(pair2)); // Expected: > 0\n",
    "\n",
    "        // 테스트 케이스 2: 왼쪽이 더 작은 경우\n",
    "        ModifiablePair<Integer, String> pair3 = new ModifiablePair<>(1, \"grape\");\n",
    "        ModifiablePair<Integer, String> pair4 = new ModifiablePair<>(4, \"orange\");\n",
    "        System.out.println(\"테스트 케이스 2:\");\n",
    "        System.out.println(\"pair3.compareTo(pair4): \" + pair3.compareTo(pair4)); // Expected: < 0\n",
    "\n",
    "        // 테스트 케이스 3: 같은 경우\n",
    "        ModifiablePair<Integer, String> pair5 = new ModifiablePair<>(2, \"kiwi\");\n",
    "        ModifiablePair<Integer, String> pair6 = new ModifiablePair<>(2, \"melon\");\n",
    "        System.out.println(\"테스트 케이스 3:\");\n",
    "        System.out.println(\"pair5.compareTo(pair6): \" + pair5.compareTo(pair6)); // Expected: < 0"
   ]
  },
  {
   "cell_type": "code",
   "execution_count": null,
   "id": "e2b3141f-4d53-4502-975e-d46fc07c4f91",
   "metadata": {},
   "outputs": [],
   "source": []
  }
 ],
 "metadata": {
  "kernelspec": {
   "display_name": "Java (rjk 2.1.0)",
   "language": "java",
   "name": "rapaio-jupyter-kernel"
  },
  "language_info": {
   "codemirror_mode": "java",
   "file_extension": ".jshell",
   "mimetype": "text/x-java-source",
   "name": "java",
   "nbconvert_exporter": "script",
   "pygments_lexer": "java",
   "version": "22.0.2+9"
  }
 },
 "nbformat": 4,
 "nbformat_minor": 5
}
